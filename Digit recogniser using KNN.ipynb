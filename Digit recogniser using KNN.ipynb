{
 "cells": [
  {
   "cell_type": "code",
   "execution_count": 1,
   "metadata": {},
   "outputs": [],
   "source": [
    "import numpy as np\n",
    "import pandas as pd\n",
    "import matplotlib.pyplot as plt\n",
    "from sklearn.neighbors import KNeighborsClassifier\n",
    "from sklearn.metrics import confusion_matrix, accuracy_score\n",
    "import gzip\n",
    "import random"
   ]
  },
  {
   "cell_type": "code",
   "execution_count": 2,
   "metadata": {},
   "outputs": [
    {
     "name": "stdout",
     "output_type": "stream",
     "text": [
      "Requirement already satisfied: python-mnist in ./opt/anaconda3/lib/python3.8/site-packages (0.7)\n",
      "Note: you may need to restart the kernel to use updated packages.\n"
     ]
    }
   ],
   "source": [
    "pip install python-mnist"
   ]
  },
  {
   "cell_type": "code",
   "execution_count": 2,
   "metadata": {},
   "outputs": [],
   "source": [
    "def load_mnist(filename, type, n_datapoints):\n",
    "    # MNIST Images have 28*28 pixels dimension\n",
    "    image_size = 28\n",
    "    f = gzip.open(filename)\n",
    "    \n",
    "    if(type == 'image'):\n",
    "        f.read(16)    # Skip Non-Image information\n",
    "        buf = f.read(n_datapoints * image_size * image_size)\n",
    "        data = np.frombuffer(buf, dtype=np.uint8).astype(np.float32)\n",
    "        data = data.reshape(n_datapoints, image_size, image_size, 1)\n",
    "    elif(type == 'label'):\n",
    "        f.read(8) # Skip Inessential information\n",
    "        buf = f.read(n_datapoints)\n",
    "        data = np.frombuffer(buf, dtype=np.uint8).astype(np.int64)\n",
    "        data = data.reshape(n_datapoints, 1)\n",
    "    return data"
   ]
  },
  {
   "cell_type": "code",
   "execution_count": 3,
   "metadata": {},
   "outputs": [],
   "source": [
    "# Training Dataset\n",
    "train_size = 60000\n",
    "test_size = 10000\n",
    "# dirpath = '/content/drive/My Drive/02 MNIST Digit Recognition/'\n",
    "dirpath = ''\n",
    "X = load_mnist(dirpath + 'train-images-idx3-ubyte.gz', 'image', train_size)\n",
    "y = load_mnist(dirpath + 'train-labels-idx1-ubyte.gz', 'label', train_size)\n",
    "X_test = load_mnist(dirpath + 't10k-images-idx3-ubyte (1).gz', 'image', test_size)\n",
    "y_test = load_mnist(dirpath + 't10k-labels-idx1-ubyte.gz', 'label', test_size)"
   ]
  },
  {
   "cell_type": "code",
   "execution_count": 4,
   "metadata": {},
   "outputs": [
    {
     "name": "stdout",
     "output_type": "stream",
     "text": [
      "Index:  56073\n",
      "Training Set: \n",
      "Label: [3]\n"
     ]
    },
    {
     "data": {
      "image/png": "[encoded data removed]",
      "text/plain": [
       "<Figure size 432x288 with 1 Axes>"
      ]
     },
     "metadata": {
      "needs_background": "light"
     },
     "output_type": "display_data"
    }
   ],
   "source": [
    "index = random.randint(0, train_size)\n",
    "print('Index: ', index)\n",
    "print('Training Set: ')\n",
    "print('Label:', y[index])\n",
    "img = np.asarray(X[index]).squeeze()\n",
    "plt.imshow(img)\n",
    "plt.show()"
   ]
  },
  {
   "cell_type": "code",
   "execution_count": 5,
   "metadata": {},
   "outputs": [
    {
     "name": "stdout",
     "output_type": "stream",
     "text": [
      "Index:  9369\n",
      "Training Set: \n",
      "Label: [2]\n"
     ]
    },
    {
     "data": {
      "image/png": "[encoded data removed]",
      "text/plain": [
       "<Figure size 432x288 with 1 Axes>"
      ]
     },
     "metadata": {
      "needs_background": "light"
     },
     "output_type": "display_data"
    }
   ],
   "source": [
    "index = random.randint(0, test_size)\n",
    "print('Index: ', index)\n",
    "print('Training Set: ')\n",
    "print('Label:', y_test[index])\n",
    "img = np.asarray(X_test[index]).squeeze()\n",
    "plt.imshow(img)\n",
    "plt.show()\n",
    "\n",
    "t1 = X_test[index].reshape(1, 28*28)"
   ]
  },
  {
   "cell_type": "code",
   "execution_count": 6,
   "metadata": {},
   "outputs": [
    {
     "name": "stdout",
     "output_type": "stream",
     "text": [
      "(4500, 28, 28, 1) (1500, 28, 28, 1) (4500, 1) (1500, 1)\n"
     ]
    }
   ],
   "source": [
    "from sklearn.model_selection import train_test_split\n",
    "X_train, X_valid, y_train, y_valid = train_test_split(X[:(train_size//10)], y[:(train_size//10)], test_size=0.25, random_state=28)\n",
    "print(X_train.shape, X_valid.shape, y_train.shape, y_valid.shape)"
   ]
  },
  {
   "cell_type": "code",
   "execution_count": 7,
   "metadata": {},
   "outputs": [
    {
     "name": "stdout",
     "output_type": "stream",
     "text": [
      "Begin KNN with k= 1\n"
     ]
    },
    {
     "name": "stderr",
     "output_type": "stream",
     "text": [
      "<ipython-input-7-1d150deee91f>:7: DataConversionWarning: A column-vector y was passed when a 1d array was expected. Please change the shape of y to (n_samples, ), for example using ravel().\n",
      "  classifier = classifier.fit(X_train.reshape(X_train.shape[0], 28*28), y_train)\n"
     ]
    },
    {
     "name": "stdout",
     "output_type": "stream",
     "text": [
      "Accuracy:  0.9506666666666667\n",
      "Confusion Matrix:\n",
      " [[143   0   0   0   0   0   0   0   0   0]\n",
      " [  0 156   0   1   0   0   0   0   0   0]\n",
      " [  0   3 127   0   0   0   0   2   2   0]\n",
      " [  2   1   1 151   0   3   1   0   1   1]\n",
      " [  0   4   0   0 157   0   2   0   0   6]\n",
      " [  1   0   0   0   2 128   1   0   0   2]\n",
      " [  1   0   0   0   0   0 157   0   1   0]\n",
      " [  0   4   0   1   1   2   0 166   0   3]\n",
      " [  0   1   3   4   0   2   0   1 110   0]\n",
      " [  4   0   1   1   5   0   0   3   0 131]]\n",
      "\n",
      "---------------\n",
      "\n",
      "Begin KNN with k= 2\n"
     ]
    },
    {
     "name": "stderr",
     "output_type": "stream",
     "text": [
      "<ipython-input-7-1d150deee91f>:7: DataConversionWarning: A column-vector y was passed when a 1d array was expected. Please change the shape of y to (n_samples, ), for example using ravel().\n",
      "  classifier = classifier.fit(X_train.reshape(X_train.shape[0], 28*28), y_train)\n"
     ]
    },
    {
     "name": "stdout",
     "output_type": "stream",
     "text": [
      "Accuracy:  0.9266666666666666\n",
      "Confusion Matrix:\n",
      " [[143   0   0   0   0   0   0   0   0   0]\n",
      " [  0 156   0   1   0   0   0   0   0   0]\n",
      " [  0   6 126   0   0   0   1   1   0   0]\n",
      " [  2   2   2 150   0   2   1   1   1   0]\n",
      " [  0   8   0   0 156   0   2   0   0   3]\n",
      " [  4   1   0   1   2 125   1   0   0   0]\n",
      " [  1   0   0   0   1   2 155   0   0   0]\n",
      " [  1   6   1   1   7   1   0 159   0   1]\n",
      " [  0   3   6   5   0   7   0   0 100   0]\n",
      " [  5   2   0   2  10   1   0   5   0 120]]\n",
      "\n",
      "---------------\n",
      "\n",
      "Begin KNN with k= 3\n"
     ]
    },
    {
     "name": "stderr",
     "output_type": "stream",
     "text": [
      "<ipython-input-7-1d150deee91f>:7: DataConversionWarning: A column-vector y was passed when a 1d array was expected. Please change the shape of y to (n_samples, ), for example using ravel().\n",
      "  classifier = classifier.fit(X_train.reshape(X_train.shape[0], 28*28), y_train)\n"
     ]
    },
    {
     "name": "stdout",
     "output_type": "stream",
     "text": [
      "Accuracy:  0.938\n",
      "Confusion Matrix:\n",
      " [[143   0   0   0   0   0   0   0   0   0]\n",
      " [  0 156   0   1   0   0   0   0   0   0]\n",
      " [  0   5 126   1   0   0   0   1   1   0]\n",
      " [  2   2   0 152   0   3   0   0   0   2]\n",
      " [  0   7   0   0 155   0   1   0   0   6]\n",
      " [  4   2   0   2   2 119   1   0   2   2]\n",
      " [  2   0   0   0   1   1 155   0   0   0]\n",
      " [  1   4   0   0   5   0   0 163   0   4]\n",
      " [  0   3   4   7   0   1   0   0 106   0]\n",
      " [  4   1   0   2   1   0   1   4   0 132]]\n",
      "\n",
      "---------------\n",
      "\n",
      "Begin KNN with k= 4\n"
     ]
    },
    {
     "name": "stderr",
     "output_type": "stream",
     "text": [
      "<ipython-input-7-1d150deee91f>:7: DataConversionWarning: A column-vector y was passed when a 1d array was expected. Please change the shape of y to (n_samples, ), for example using ravel().\n",
      "  classifier = classifier.fit(X_train.reshape(X_train.shape[0], 28*28), y_train)\n"
     ]
    },
    {
     "name": "stdout",
     "output_type": "stream",
     "text": [
      "Accuracy:  0.9386666666666666\n",
      "Confusion Matrix:\n",
      " [[143   0   0   0   0   0   0   0   0   0]\n",
      " [  0 156   0   1   0   0   0   0   0   0]\n",
      " [  0   5 126   1   0   0   1   1   0   0]\n",
      " [  2   2   0 154   0   1   0   0   0   2]\n",
      " [  0   6   0   0 158   0   1   0   0   4]\n",
      " [  3   1   0   5   1 117   1   1   2   3]\n",
      " [  2   0   0   0   0   1 156   0   0   0]\n",
      " [  1   4   0   0   3   1   0 165   0   3]\n",
      " [  0   3   4   5   0   3   0   0 106   0]\n",
      " [  4   1   0   2   4   0   1   6   0 127]]\n",
      "\n",
      "---------------\n",
      "\n",
      "Begin KNN with k= 5\n"
     ]
    },
    {
     "name": "stderr",
     "output_type": "stream",
     "text": [
      "<ipython-input-7-1d150deee91f>:7: DataConversionWarning: A column-vector y was passed when a 1d array was expected. Please change the shape of y to (n_samples, ), for example using ravel().\n",
      "  classifier = classifier.fit(X_train.reshape(X_train.shape[0], 28*28), y_train)\n"
     ]
    },
    {
     "name": "stdout",
     "output_type": "stream",
     "text": [
      "Accuracy:  0.9393333333333334\n",
      "Confusion Matrix:\n",
      " [[141   0   0   0   0   1   1   0   0   0]\n",
      " [  0 157   0   0   0   0   0   0   0   0]\n",
      " [  0   5 126   0   0   0   0   1   2   0]\n",
      " [  1   3   0 154   0   1   0   0   0   2]\n",
      " [  0   6   0   0 154   0   1   0   0   8]\n",
      " [  3   2   0   5   1 117   2   0   1   3]\n",
      " [  2   0   0   0   0   1 156   0   0   0]\n",
      " [  1   5   0   0   2   1   0 165   0   3]\n",
      " [  0   3   3   5   0   3   0   0 107   0]\n",
      " [  4   2   0   1   1   0   1   4   0 132]]\n",
      "\n",
      "---------------\n",
      "\n",
      "Begin KNN with k= 6\n"
     ]
    },
    {
     "name": "stderr",
     "output_type": "stream",
     "text": [
      "<ipython-input-7-1d150deee91f>:7: DataConversionWarning: A column-vector y was passed when a 1d array was expected. Please change the shape of y to (n_samples, ), for example using ravel().\n",
      "  classifier = classifier.fit(X_train.reshape(X_train.shape[0], 28*28), y_train)\n"
     ]
    },
    {
     "name": "stdout",
     "output_type": "stream",
     "text": [
      "Accuracy:  0.94\n",
      "Confusion Matrix:\n",
      " [[141   0   0   0   0   1   1   0   0   0]\n",
      " [  0 157   0   0   0   0   0   0   0   0]\n",
      " [  1   6 123   1   0   0   0   1   2   0]\n",
      " [  1   3   0 155   0   0   0   0   0   2]\n",
      " [  0   6   0   0 155   0   1   0   0   7]\n",
      " [  3   1   0   5   1 117   2   1   1   3]\n",
      " [  1   1   0   0   0   1 156   0   0   0]\n",
      " [  0   5   0   0   2   1   0 167   0   2]\n",
      " [  0   3   3   6   0   1   0   0 108   0]\n",
      " [  4   1   0   2   1   0   1   5   0 131]]\n",
      "\n",
      "---------------\n",
      "\n",
      "Begin KNN with k= 7\n"
     ]
    },
    {
     "name": "stderr",
     "output_type": "stream",
     "text": [
      "<ipython-input-7-1d150deee91f>:7: DataConversionWarning: A column-vector y was passed when a 1d array was expected. Please change the shape of y to (n_samples, ), for example using ravel().\n",
      "  classifier = classifier.fit(X_train.reshape(X_train.shape[0], 28*28), y_train)\n"
     ]
    },
    {
     "name": "stdout",
     "output_type": "stream",
     "text": [
      "Accuracy:  0.9366666666666666\n",
      "Confusion Matrix:\n",
      " [[140   0   0   0   0   1   2   0   0   0]\n",
      " [  0 156   0   0   0   0   0   0   0   1]\n",
      " [  1   5 124   0   0   0   0   2   2   0]\n",
      " [  2   4   0 153   0   0   0   0   0   2]\n",
      " [  0   6   0   0 150   0   2   0   0  11]\n",
      " [  3   2   0   4   1 118   2   0   1   3]\n",
      " [  2   1   0   0   0   1 155   0   0   0]\n",
      " [  0   5   0   0   2   1   0 165   0   4]\n",
      " [  0   3   1   5   0   2   0   0 110   0]\n",
      " [  4   1   0   2   0   0   1   3   0 134]]\n",
      "\n",
      "---------------\n",
      "\n",
      "Begin KNN with k= 8\n"
     ]
    },
    {
     "name": "stderr",
     "output_type": "stream",
     "text": [
      "<ipython-input-7-1d150deee91f>:7: DataConversionWarning: A column-vector y was passed when a 1d array was expected. Please change the shape of y to (n_samples, ), for example using ravel().\n",
      "  classifier = classifier.fit(X_train.reshape(X_train.shape[0], 28*28), y_train)\n"
     ]
    },
    {
     "name": "stdout",
     "output_type": "stream",
     "text": [
      "Accuracy:  0.936\n",
      "Confusion Matrix:\n",
      " [[141   0   0   0   0   1   1   0   0   0]\n",
      " [  0 156   0   0   0   0   0   0   0   1]\n",
      " [  1   5 125   0   0   0   0   1   2   0]\n",
      " [  1   4   0 154   0   0   0   0   0   2]\n",
      " [  0   6   0   0 154   0   2   0   0   7]\n",
      " [  3   2   0   5   1 118   2   0   0   3]\n",
      " [  2   1   0   0   0   1 155   0   0   0]\n",
      " [  0   6   0   0   1   1   0 165   0   4]\n",
      " [  0   3   2   7   0   3   0   0 106   0]\n",
      " [  3   1   0   2   2   1   1   5   0 130]]\n",
      "\n",
      "---------------\n",
      "\n"
     ]
    }
   ],
   "source": [
    "#KNN\n",
    "score = []\n",
    "\n",
    "for k in range(1, 9):\n",
    "  print('Begin KNN with k=',k)\n",
    "  classifier = KNeighborsClassifier(n_neighbors=k)\n",
    "  classifier = classifier.fit(X_train.reshape(X_train.shape[0], 28*28), y_train)\n",
    "  pred = classifier.predict(X_valid.reshape(X_valid.shape[0], 28*28))\n",
    "  accuracy = accuracy_score(y_valid, pred)\n",
    "  score.append(accuracy)\n",
    "  print(\"Accuracy: \",accuracy)\n",
    "  print(\"Confusion Matrix:\\n\", confusion_matrix(y_valid, pred))\n",
    "  print(\"\\n---------------\\n\")\n"
   ]
  },
  {
   "cell_type": "code",
   "execution_count": 8,
   "metadata": {},
   "outputs": [
    {
     "data": {
      "image/png": "[encoded data removed]",
      "text/plain": [
       "<Figure size 432x288 with 1 Axes>"
      ]
     },
     "metadata": {
      "needs_background": "light"
     },
     "output_type": "display_data"
    }
   ],
   "source": [
    "plt.plot(range(1,9), score)\n",
    "plt.title('Determining the Optimal Number of Neighbors')\n",
    "plt.xlabel('K - Number of Neighbors')\n",
    "plt.ylabel('Accuracy')\n",
    "plt.show()"
   ]
  },
  {
   "cell_type": "code",
   "execution_count": 9,
   "metadata": {},
   "outputs": [
    {
     "name": "stdout",
     "output_type": "stream",
     "text": [
      "Training the Model\n"
     ]
    },
    {
     "name": "stderr",
     "output_type": "stream",
     "text": [
      "<ipython-input-9-c4945e70ce0f>:3: DataConversionWarning: A column-vector y was passed when a 1d array was expected. Please change the shape of y to (n_samples, ), for example using ravel().\n",
      "  classifier = classifier.fit(X.reshape(X.shape[0], 28*28), y)\n"
     ]
    },
    {
     "name": "stdout",
     "output_type": "stream",
     "text": [
      "Testing the model\n",
      "[[ 974    1    1    0    0    1    2    1    0    0]\n",
      " [   0 1133    2    0    0    0    0    0    0    0]\n",
      " [  11    8  991    2    1    0    1   15    3    0]\n",
      " [   0    3    3  976    1   13    1    6    3    4]\n",
      " [   3    7    0    0  944    0    4    2    1   21]\n",
      " [   5    0    0   12    2  862    4    1    2    4]\n",
      " [   5    3    0    0    3    2  945    0    0    0]\n",
      " [   0   22    4    0    3    0    0  988    0   11]\n",
      " [   8    3    5   13    6   12    5    5  913    4]\n",
      " [   5    7    3    9    7    3    1   10    2  962]]\n",
      "0.9688\n"
     ]
    }
   ],
   "source": [
    "print('Training the Model')\n",
    "classifier = KNeighborsClassifier(n_neighbors=5)\n",
    "classifier = classifier.fit(X.reshape(X.shape[0], 28*28), y)\n",
    "print('Testing the model')\n",
    "y_pred = classifier.predict(X_test.reshape(X_test.shape[0], 28*28))\n",
    "print(confusion_matrix(y_test, y_pred))\n",
    "print(accuracy_score(y_test, y_pred))"
   ]
  },
  {
   "cell_type": "code",
   "execution_count": 10,
   "metadata": {},
   "outputs": [
    {
     "name": "stdout",
     "output_type": "stream",
     "text": [
      "              precision    recall  f1-score   support\n",
      "\n",
      "           0       0.99      0.96      0.98      1011\n",
      "           1       1.00      0.95      0.98      1187\n",
      "           2       0.96      0.98      0.97      1009\n",
      "           3       0.97      0.96      0.97      1012\n",
      "           4       0.96      0.98      0.97       967\n",
      "           5       0.97      0.97      0.97       893\n",
      "           6       0.99      0.98      0.98       963\n",
      "           7       0.96      0.96      0.96      1028\n",
      "           8       0.94      0.99      0.96       924\n",
      "           9       0.95      0.96      0.95      1006\n",
      "\n",
      "    accuracy                           0.97     10000\n",
      "   macro avg       0.97      0.97      0.97     10000\n",
      "weighted avg       0.97      0.97      0.97     10000\n",
      "\n"
     ]
    }
   ],
   "source": [
    "from sklearn.metrics import classification_report\n",
    "\n",
    "print(classification_report(y_pred, y_test))"
   ]
  },
  {
   "cell_type": "code",
   "execution_count": 11,
   "metadata": {},
   "outputs": [
    {
     "data": {
      "text/plain": [
       "['knn_model.gzip']"
      ]
     },
     "execution_count": 11,
     "metadata": {},
     "output_type": "execute_result"
    }
   ],
   "source": [
    "import joblib\n",
    "\n",
    "joblib.dump(classifier, 'knn_model.gzip', compress=('gzip',3))"
   ]
  },
  {
   "cell_type": "code",
   "execution_count": null,
   "metadata": {},
   "outputs": [],
   "source": []
  },
  {
   "cell_type": "code",
   "execution_count": null,
   "metadata": {},
   "outputs": [],
   "source": []
  },
  {
   "cell_type": "code",
   "execution_count": null,
   "metadata": {},
   "outputs": [],
   "source": []
  },
  {
   "cell_type": "code",
   "execution_count": null,
   "metadata": {},
   "outputs": [],
   "source": []
  }
 ],
 "metadata": {
  "kernelspec": {
   "display_name": "Python 3",
   "language": "python",
   "name": "python3"
  },
  "language_info": {
   "codemirror_mode": {
    "name": "ipython",
    "version": 3
   },
   "file_extension": ".py",
   "mimetype": "text/x-python",
   "name": "python",
   "nbconvert_exporter": "python",
   "pygments_lexer": "ipython3",
   "version": "3.8.5"
  }
 },
 "nbformat": 4,
 "nbformat_minor": 4
}
